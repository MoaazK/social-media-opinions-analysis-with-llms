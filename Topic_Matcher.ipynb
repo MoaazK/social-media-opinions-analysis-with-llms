{
 "cells": [
  {
   "cell_type": "code",
   "execution_count": 1,
   "id": "267cc2fa-c0cf-47ac-9d27-275c0178afa4",
   "metadata": {},
   "outputs": [
    {
     "name": "stderr",
     "output_type": "stream",
     "text": [
      "/opt/anaconda3/envs/newmind/lib/python3.12/site-packages/sentence_transformers/cross_encoder/CrossEncoder.py:13: TqdmExperimentalWarning: Using `tqdm.autonotebook.tqdm` in notebook mode. Use `tqdm.tqdm` instead to force console mode (e.g. in jupyter console)\n",
      "  from tqdm.autonotebook import tqdm, trange\n"
     ]
    }
   ],
   "source": [
    "import numpy as np\n",
    "import pandas as pd\n",
    "\n",
    "from sklearn.metrics import (\n",
    "    accuracy_score,\n",
    "    precision_recall_fscore_support,\n",
    "    pairwise,\n",
    ")\n",
    "from torch.utils.data import DataLoader\n",
    "\n",
    "from datasets import load_dataset\n",
    "from sentence_transformers import (\n",
    "    InputExample,\n",
    "    SentenceTransformer,\n",
    "    SentenceTransformerModelCardData,\n",
    "    SentenceTransformerTrainer,\n",
    "    SentenceTransformerTrainingArguments,\n",
    ")\n",
    "from sentence_transformers.evaluation import BinaryClassificationEvaluator, TripletEvaluator\n",
    "from sentence_transformers.losses import MultipleNegativesRankingLoss\n",
    "from sentence_transformers.training_args import BatchSamplers\n",
    "\n",
    "from utils.data_preprocessing import preprocess_data, split_data\n",
    "from models.topic_matcher import TopicMatcher\n",
    "from models.comment_classifier import OpinionClassifier\n",
    "from models.summarizer import Summarizer\n",
    "\n",
    "%load_ext autoreload\n",
    "%autoreload 2"
   ]
  },
  {
   "cell_type": "code",
   "execution_count": 2,
   "id": "0faa5ecf-c1a6-4102-b580-d3163664147d",
   "metadata": {},
   "outputs": [],
   "source": [
    "topics, opinions, conclusions = preprocess_data()\n",
    "train_data, test_data = split_data(opinions)"
   ]
  },
  {
   "cell_type": "code",
   "execution_count": 3,
   "id": "1561aa64-e353-4b37-9626-d8a521a2dd53",
   "metadata": {},
   "outputs": [
    {
     "name": "stderr",
     "output_type": "stream",
     "text": [
      "/opt/anaconda3/envs/newmind/lib/python3.12/site-packages/transformers/tokenization_utils_base.py:1617: FutureWarning: `clean_up_tokenization_spaces` was not set. It will be set to `True` by default. This behavior will be deprecated in transformers v4.45, and will be then set to `False` by default. For more details check this issue: https://github.com/huggingface/transformers/issues/31884\n",
      "  warnings.warn(\n"
     ]
    }
   ],
   "source": [
    "topic_matcher = TopicMatcher()\n",
    "train_dataset = topic_matcher.prepare_data(topics, train_data)\n",
    "test_dataset = topic_matcher.prepare_data(topics, test_data)"
   ]
  },
  {
   "cell_type": "code",
   "execution_count": 4,
   "id": "229c723c-61f4-427b-b664-9ca4fa031138",
   "metadata": {},
   "outputs": [
    {
     "data": {
      "text/plain": [
       "{'cosine_accuracy': np.float64(0.8205318951087968),\n",
       " 'cosine_accuracy_threshold': np.float32(0.25139463),\n",
       " 'cosine_f1': np.float64(0.8251797922400782),\n",
       " 'cosine_f1_threshold': np.float32(0.20716247),\n",
       " 'cosine_precision': 0.7895005096839959,\n",
       " 'cosine_recall': np.float64(0.864236563139297),\n",
       " 'cosine_ap': np.float64(0.8827102750892164),\n",
       " 'dot_accuracy': np.float64(0.8205318951087968),\n",
       " 'dot_accuracy_threshold': np.float32(0.25139463),\n",
       " 'dot_f1': np.float64(0.8251797922400782),\n",
       " 'dot_f1_threshold': np.float32(0.20716244),\n",
       " 'dot_precision': 0.7895005096839959,\n",
       " 'dot_recall': np.float64(0.864236563139297),\n",
       " 'dot_ap': np.float64(0.8827102869788535),\n",
       " 'manhattan_accuracy': np.float64(0.8186721220011158),\n",
       " 'manhattan_accuracy_threshold': np.float32(18.940704),\n",
       " 'manhattan_f1': np.float64(0.8243171806167401),\n",
       " 'manhattan_f1_threshold': np.float32(19.638052),\n",
       " 'manhattan_precision': 0.783191026284949,\n",
       " 'manhattan_recall': np.float64(0.8700018597731077),\n",
       " 'manhattan_ap': np.float64(0.8823113250813381),\n",
       " 'euclidean_accuracy': np.float64(0.8205318951087968),\n",
       " 'euclidean_accuracy_threshold': np.float32(1.2236056),\n",
       " 'euclidean_f1': np.float64(0.8251797922400782),\n",
       " 'euclidean_f1_threshold': np.float32(1.259236),\n",
       " 'euclidean_precision': 0.7895005096839959,\n",
       " 'euclidean_recall': np.float64(0.864236563139297),\n",
       " 'euclidean_ap': np.float64(0.8827102124084185),\n",
       " 'max_accuracy': np.float64(0.8205318951087968),\n",
       " 'max_accuracy_threshold': np.float32(18.940704),\n",
       " 'max_f1': np.float64(0.8251797922400782),\n",
       " 'max_f1_threshold': np.float32(19.638052),\n",
       " 'max_precision': 0.7895005096839959,\n",
       " 'max_recall': np.float64(0.8700018597731077),\n",
       " 'max_ap': np.float64(0.8827102869788535)}"
      ]
     },
     "execution_count": 4,
     "metadata": {},
     "output_type": "execute_result"
    }
   ],
   "source": [
    "# test_evaluator = TripletEvaluator(\n",
    "#     anchors=test_dataset[\"anchor\"],\n",
    "#     positives=test_dataset[\"positive\"],\n",
    "#     negatives=test_dataset[\"negative\"],\n",
    "# )\n",
    "test_evaluator = BinaryClassificationEvaluator(\n",
    "    sentences1=test_dataset[\"text1\"],\n",
    "    sentences2=test_dataset[\"text2\"],\n",
    "    labels=test_dataset[\"label\"]\n",
    ")\n",
    "test_evaluator(topic_matcher.model)"
   ]
  },
  {
   "cell_type": "code",
   "execution_count": 5,
   "id": "76e11ad7-f09c-4606-a582-a816212f173d",
   "metadata": {},
   "outputs": [],
   "source": [
    "# train_loss = losses.MultipleNegativesRankingLoss(topic_matcher.model)\n",
    "train_loss = losses.ContrastiveLoss(topic_matcher.model)"
   ]
  },
  {
   "cell_type": "code",
   "execution_count": 6,
   "id": "94d73ad7-bcf0-4b9a-83f3-4ba6187455b6",
   "metadata": {},
   "outputs": [
    {
     "data": {
      "text/html": [
       "\n",
       "    <div>\n",
       "      \n",
       "      <progress value='1336' max='1336' style='width:300px; height:20px; vertical-align: middle;'></progress>\n",
       "      [1336/1336 04:39, Epoch 1/1]\n",
       "    </div>\n",
       "    <table border=\"1\" class=\"dataframe\">\n",
       "  <thead>\n",
       " <tr style=\"text-align: left;\">\n",
       "      <th>Step</th>\n",
       "      <th>Training Loss</th>\n",
       "    </tr>\n",
       "  </thead>\n",
       "  <tbody>\n",
       "    <tr>\n",
       "      <td>500</td>\n",
       "      <td>0.019700</td>\n",
       "    </tr>\n",
       "    <tr>\n",
       "      <td>1000</td>\n",
       "      <td>0.012000</td>\n",
       "    </tr>\n",
       "  </tbody>\n",
       "</table><p>"
      ],
      "text/plain": [
       "<IPython.core.display.HTML object>"
      ]
     },
     "metadata": {},
     "output_type": "display_data"
    },
    {
     "data": {
      "text/plain": [
       "TrainOutput(global_step=1336, training_loss=0.014717698097229004, metrics={'train_runtime': 280.2448, 'train_samples_per_second': 152.481, 'train_steps_per_second': 4.767, 'total_flos': 0.0, 'train_loss': 0.014717698097229004, 'epoch': 1.0})"
      ]
     },
     "execution_count": 6,
     "metadata": {},
     "output_type": "execute_result"
    }
   ],
   "source": [
    "training_args = SentenceTransformerTrainingArguments(\n",
    "    output_dir=\"./sentence_transformer_output\",\n",
    "    num_train_epochs=1,\n",
    "    per_device_train_batch_size=32,\n",
    "    warmup_steps=100,\n",
    "    eval_strategy=\"no\",\n",
    "    save_strategy=\"no\",\n",
    "    learning_rate=4e-5,\n",
    ")\n",
    "\n",
    "trainer = SentenceTransformerTrainer(\n",
    "    model=topic_matcher.model,\n",
    "    args=training_args,\n",
    "    train_dataset=train_dataset,\n",
    "    loss=train_loss\n",
    "    \n",
    ")\n",
    "\n",
    "trainer.train()"
   ]
  },
  {
   "cell_type": "code",
   "execution_count": 7,
   "id": "b2c28656-ef18-4fe8-a610-0e16e1a09d6e",
   "metadata": {},
   "outputs": [
    {
     "data": {
      "text/plain": [
       "{'cosine_accuracy': np.float64(0.8908313185791333),\n",
       " 'cosine_accuracy_threshold': np.float32(0.7126949),\n",
       " 'cosine_f1': np.float64(0.8956145768993204),\n",
       " 'cosine_f1_threshold': np.float32(0.6957381),\n",
       " 'cosine_precision': 0.8520819341840161,\n",
       " 'cosine_recall': np.float64(0.943834852148038),\n",
       " 'cosine_ap': np.float64(0.9197200674022441),\n",
       " 'dot_accuracy': np.float64(0.8908313185791333),\n",
       " 'dot_accuracy_threshold': np.float32(0.7126949),\n",
       " 'dot_f1': np.float64(0.8956145768993204),\n",
       " 'dot_f1_threshold': np.float32(0.69573814),\n",
       " 'dot_precision': 0.8520819341840161,\n",
       " 'dot_recall': np.float64(0.943834852148038),\n",
       " 'dot_ap': np.float64(0.9197200467455794),\n",
       " 'manhattan_accuracy': np.float64(0.8911102845452855),\n",
       " 'manhattan_accuracy_threshold': np.float32(11.935891),\n",
       " 'manhattan_f1': np.float64(0.8962155455109456),\n",
       " 'manhattan_f1_threshold': np.float32(11.935891),\n",
       " 'manhattan_precision': 0.8560785641720284,\n",
       " 'manhattan_recall': np.float64(0.9403012832434443),\n",
       " 'manhattan_ap': np.float64(0.9194561805253936),\n",
       " 'euclidean_accuracy': np.float64(0.8908313185791333),\n",
       " 'euclidean_accuracy_threshold': np.float32(0.7580304),\n",
       " 'euclidean_f1': np.float64(0.8956145768993204),\n",
       " 'euclidean_f1_threshold': np.float32(0.78007936),\n",
       " 'euclidean_precision': 0.8520819341840161,\n",
       " 'euclidean_recall': np.float64(0.943834852148038),\n",
       " 'euclidean_ap': np.float64(0.9197200357983237),\n",
       " 'max_accuracy': np.float64(0.8911102845452855),\n",
       " 'max_accuracy_threshold': np.float32(11.935891),\n",
       " 'max_f1': np.float64(0.8962155455109456),\n",
       " 'max_f1_threshold': np.float32(11.935891),\n",
       " 'max_precision': 0.8560785641720284,\n",
       " 'max_recall': np.float64(0.943834852148038),\n",
       " 'max_ap': np.float64(0.9197200674022441)}"
      ]
     },
     "execution_count": 7,
     "metadata": {},
     "output_type": "execute_result"
    }
   ],
   "source": [
    "test_evaluator = BinaryClassificationEvaluator(\n",
    "    sentences1=test_dataset[\"text1\"],\n",
    "    sentences2=test_dataset[\"text2\"],\n",
    "    labels=test_dataset[\"label\"]\n",
    ")\n",
    "test_evaluator(topic_matcher.model)"
   ]
  },
  {
   "cell_type": "code",
   "execution_count": 8,
   "id": "db3a6f6f-d91e-4d06-ab19-99afaf00077f",
   "metadata": {},
   "outputs": [
    {
     "data": {
      "application/vnd.jupyter.widget-view+json": {
       "model_id": "",
       "version_major": 2,
       "version_minor": 0
      },
      "text/plain": [
       "Computing widget examples:   0%|          | 0/1 [00:00<?, ?example/s]"
      ]
     },
     "metadata": {},
     "output_type": "display_data"
    }
   ],
   "source": [
    "topic_matcher.model.save_pretrained(\"saved_models/grouping/binary\")"
   ]
  },
  {
   "cell_type": "code",
   "execution_count": 14,
   "id": "0f3c39c8-4254-437f-b824-b4ae41dc825a",
   "metadata": {},
   "outputs": [
    {
     "data": {
      "text/plain": [
       "{'cosine_accuracy': 0.9443927840803422,\n",
       " 'dot_accuracy': 0.0556072159196578,\n",
       " 'manhattan_accuracy': 0.941975079040357,\n",
       " 'euclidean_accuracy': 0.9443927840803422,\n",
       " 'max_accuracy': 0.9443927840803422}"
      ]
     },
     "execution_count": 14,
     "metadata": {},
     "output_type": "execute_result"
    }
   ],
   "source": [
    "test_evaluator = TripletEvaluator(\n",
    "    anchors=test_dataset[\"anchor\"],\n",
    "    positives=test_dataset[\"positive\"],\n",
    "    negatives=test_dataset[\"negative\"],\n",
    ")\n",
    "test_evaluator(topic_matcher.model)"
   ]
  },
  {
   "cell_type": "code",
   "execution_count": null,
   "id": "db1660ca-6f5e-4e06-a9a8-fe82f148af9b",
   "metadata": {},
   "outputs": [],
   "source": []
  }
 ],
 "metadata": {
  "kernelspec": {
   "display_name": "newmind",
   "language": "python",
   "name": "newmind"
  },
  "language_info": {
   "codemirror_mode": {
    "name": "ipython",
    "version": 3
   },
   "file_extension": ".py",
   "mimetype": "text/x-python",
   "name": "python",
   "nbconvert_exporter": "python",
   "pygments_lexer": "ipython3",
   "version": "3.12.6"
  }
 },
 "nbformat": 4,
 "nbformat_minor": 5
}
