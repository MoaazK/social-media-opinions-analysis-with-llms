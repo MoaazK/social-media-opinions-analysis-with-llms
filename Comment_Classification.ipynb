{
 "cells": [
  {
   "cell_type": "code",
   "execution_count": 1,
   "id": "d86971ec-201c-4893-a4f8-fb7b4b502956",
   "metadata": {},
   "outputs": [
    {
     "name": "stderr",
     "output_type": "stream",
     "text": [
      "Some weights of BertForSequenceClassification were not initialized from the model checkpoint at bert-base-uncased and are newly initialized: ['classifier.bias', 'classifier.weight']\n",
      "You should probably TRAIN this model on a down-stream task to be able to use it for predictions and inference.\n"
     ]
    }
   ],
   "source": [
    "import numpy as np\n",
    "import pandas as pd\n",
    "\n",
    "from sklearn.metrics import (\n",
    "    accuracy_score,\n",
    "    precision_recall_fscore_support,\n",
    "    pairwise,\n",
    ")\n",
    "from torch.utils.data import DataLoader\n",
    "\n",
    "import torch\n",
    "import pandas as pd\n",
    "\n",
    "from datasets import Dataset\n",
    "from transformers import BertTokenizerFast, BertForSequenceClassification, Trainer, TrainingArguments\n",
    "\n",
    "from utils.data_preprocessing import preprocess_data, split_data, split_data_all\n",
    "\n",
    "%load_ext autoreload\n",
    "%autoreload 2"
   ]
  },
  {
   "cell_type": "code",
   "execution_count": 2,
   "id": "f0354d1c-6ba6-44ab-8c2d-9165303a9703",
   "metadata": {},
   "outputs": [],
   "source": [
    "topics, opinions, conclusions = preprocess_data()"
   ]
  },
  {
   "cell_type": "code",
   "execution_count": 3,
   "id": "b5f40d01-0e55-4409-b68e-9d9965172dfc",
   "metadata": {},
   "outputs": [],
   "source": [
    "label_mapping = {\n",
    "    'Claim': 'Supportive',\n",
    "    # 'Evidence': 'Supportive',\n",
    "    # 'Rebuttal': 'Supportive',\n",
    "    # 'Position': 'Supportive',\n",
    "    'Counterclaim': 'Opposing'\n",
    "}\n",
    "\n",
    "opinions = opinions.merge(\n",
    "    topics[['topic_id', 'text']],\n",
    "    on='topic_id',\n",
    "    suffixes=('_opinion', '_topic')\n",
    ")\n",
    "\n",
    "opinions['stance'] = opinions['type'].map(label_mapping)\n",
    "opinions = opinions.dropna(subset=['stance'])\n",
    "\n",
    "label_to_id = {\n",
    "    'Opposing': 0,\n",
    "    'Supportive': 1\n",
    "}\n",
    "\n",
    "opinions['label'] = opinions['stance'].map(label_to_id)"
   ]
  },
  {
   "cell_type": "code",
   "execution_count": 4,
   "id": "3a485339-3fd5-4a1a-b529-1c81e22e5e20",
   "metadata": {},
   "outputs": [],
   "source": [
    "train_data, val_data, test_data = split_data_all(opinions, val_size=0.15)"
   ]
  },
  {
   "cell_type": "code",
   "execution_count": 5,
   "id": "8f755ddb-0388-415f-8908-14a54eef715b",
   "metadata": {},
   "outputs": [],
   "source": [
    "train_dataset = Dataset.from_pandas(train_data[['text_topic', 'text_opinion', 'label']].reset_index(drop=True))\n",
    "val_dataset = Dataset.from_pandas(val_data[['text_topic', 'text_opinion', 'label']].reset_index(drop=True))\n",
    "test_dataset = Dataset.from_pandas(test_data[['text_topic', 'text_opinion', 'label']].reset_index(drop=True))"
   ]
  },
  {
   "cell_type": "code",
   "execution_count": 6,
   "id": "e675447f-3466-492e-9222-e6b451d5456c",
   "metadata": {},
   "outputs": [
    {
     "name": "stderr",
     "output_type": "stream",
     "text": [
      "/opt/anaconda3/envs/newmind/lib/python3.12/site-packages/transformers/tokenization_utils_base.py:1617: FutureWarning: `clean_up_tokenization_spaces` was not set. It will be set to `True` by default. This behavior will be deprecated in transformers v4.45, and will be then set to `False` by default. For more details check this issue: https://github.com/huggingface/transformers/issues/31884\n",
      "  warnings.warn(\n",
      "Some weights of BertForSequenceClassification were not initialized from the model checkpoint at bert-base-uncased and are newly initialized: ['classifier.bias', 'classifier.weight']\n",
      "You should probably TRAIN this model on a down-stream task to be able to use it for predictions and inference.\n"
     ]
    }
   ],
   "source": [
    "tokenizer = BertTokenizerFast.from_pretrained('bert-base-uncased')\n",
    "model = BertForSequenceClassification.from_pretrained(\n",
    "    'bert-base-uncased',\n",
    "    num_labels=2\n",
    ")"
   ]
  },
  {
   "cell_type": "code",
   "execution_count": 7,
   "id": "f2c8b596-4321-470f-a4d6-4c5d442450b3",
   "metadata": {},
   "outputs": [
    {
     "data": {
      "application/vnd.jupyter.widget-view+json": {
       "model_id": "f817aab8dbb24d58bbbe38b2c12cb1ff",
       "version_major": 2,
       "version_minor": 0
      },
      "text/plain": [
       "Map:   0%|          | 0/10322 [00:00<?, ? examples/s]"
      ]
     },
     "metadata": {},
     "output_type": "display_data"
    },
    {
     "data": {
      "application/vnd.jupyter.widget-view+json": {
       "model_id": "2a821366bc334b0481e72c62e3976a30",
       "version_major": 2,
       "version_minor": 0
      },
      "text/plain": [
       "Map:   0%|          | 0/1989 [00:00<?, ? examples/s]"
      ]
     },
     "metadata": {},
     "output_type": "display_data"
    },
    {
     "data": {
      "application/vnd.jupyter.widget-view+json": {
       "model_id": "addb239d3ea04ce682f4b1beacc7c775",
       "version_major": 2,
       "version_minor": 0
      },
      "text/plain": [
       "Map:   0%|          | 0/1427 [00:00<?, ? examples/s]"
      ]
     },
     "metadata": {},
     "output_type": "display_data"
    }
   ],
   "source": [
    "def tokenize(batch):\n",
    "    return tokenizer(\n",
    "        batch['text_topic'],\n",
    "        batch['text_opinion'],\n",
    "        padding='max_length',\n",
    "        truncation=True,\n",
    "        max_length=128\n",
    "    )\n",
    "\n",
    "train_encoding = train_dataset.map(tokenize, batched=True)\n",
    "val_encoding = val_dataset.map(tokenize, batched=True)\n",
    "test_encoding = test_dataset.map(tokenize, batched=True)"
   ]
  },
  {
   "cell_type": "code",
   "execution_count": 8,
   "id": "bccd56db-3c70-4691-b6f9-7b877bf17f0e",
   "metadata": {},
   "outputs": [],
   "source": [
    "columns = ['input_ids', 'token_type_ids', 'attention_mask', 'label']\n",
    "\n",
    "train_encoding.set_format(type='torch', columns=columns)\n",
    "val_encoding.set_format(type='torch', columns=columns)\n",
    "test_encoding.set_format(type='torch', columns=columns)"
   ]
  },
  {
   "cell_type": "code",
   "execution_count": 9,
   "id": "63fed7a1-ed06-43c7-9314-92cc3a89b046",
   "metadata": {},
   "outputs": [],
   "source": [
    "def compute_metrics(pred):\n",
    "    labels = pred.label_ids\n",
    "    preds = pred.predictions.argmax(-1)\n",
    "    precision, recall, f1, _ = precision_recall_fscore_support(labels, preds, average='binary')\n",
    "    acc = accuracy_score(labels, preds)\n",
    "    return {\n",
    "        'accuracy': acc,\n",
    "        'f1': f1,\n",
    "        'precision': precision,\n",
    "        'recall': recall\n",
    "    }"
   ]
  },
  {
   "cell_type": "code",
   "execution_count": 10,
   "id": "cc7f31d5-987c-4627-a153-df2d67182ad8",
   "metadata": {},
   "outputs": [
    {
     "data": {
      "text/html": [
       "\n",
       "    <div>\n",
       "      \n",
       "      <progress value='646' max='646' style='width:300px; height:20px; vertical-align: middle;'></progress>\n",
       "      [646/646 09:03, Epoch 2/2]\n",
       "    </div>\n",
       "    <table border=\"1\" class=\"dataframe\">\n",
       "  <thead>\n",
       " <tr style=\"text-align: left;\">\n",
       "      <th>Step</th>\n",
       "      <th>Training Loss</th>\n",
       "      <th>Validation Loss</th>\n",
       "      <th>Accuracy</th>\n",
       "      <th>F1</th>\n",
       "      <th>Precision</th>\n",
       "      <th>Recall</th>\n",
       "    </tr>\n",
       "  </thead>\n",
       "  <tbody>\n",
       "    <tr>\n",
       "      <td>50</td>\n",
       "      <td>0.497800</td>\n",
       "      <td>0.393307</td>\n",
       "      <td>0.869281</td>\n",
       "      <td>0.930070</td>\n",
       "      <td>0.869281</td>\n",
       "      <td>1.000000</td>\n",
       "    </tr>\n",
       "    <tr>\n",
       "      <td>100</td>\n",
       "      <td>0.284300</td>\n",
       "      <td>0.280043</td>\n",
       "      <td>0.887883</td>\n",
       "      <td>0.939320</td>\n",
       "      <td>0.886948</td>\n",
       "      <td>0.998265</td>\n",
       "    </tr>\n",
       "    <tr>\n",
       "      <td>150</td>\n",
       "      <td>0.276600</td>\n",
       "      <td>0.243087</td>\n",
       "      <td>0.911011</td>\n",
       "      <td>0.950071</td>\n",
       "      <td>0.927313</td>\n",
       "      <td>0.973973</td>\n",
       "    </tr>\n",
       "    <tr>\n",
       "      <td>200</td>\n",
       "      <td>0.298500</td>\n",
       "      <td>0.275025</td>\n",
       "      <td>0.905480</td>\n",
       "      <td>0.945093</td>\n",
       "      <td>0.954572</td>\n",
       "      <td>0.935801</td>\n",
       "    </tr>\n",
       "    <tr>\n",
       "      <td>250</td>\n",
       "      <td>0.201700</td>\n",
       "      <td>0.228270</td>\n",
       "      <td>0.917547</td>\n",
       "      <td>0.953881</td>\n",
       "      <td>0.928298</td>\n",
       "      <td>0.980914</td>\n",
       "    </tr>\n",
       "    <tr>\n",
       "      <td>300</td>\n",
       "      <td>0.225000</td>\n",
       "      <td>0.252260</td>\n",
       "      <td>0.916541</td>\n",
       "      <td>0.952975</td>\n",
       "      <td>0.933926</td>\n",
       "      <td>0.972817</td>\n",
       "    </tr>\n",
       "    <tr>\n",
       "      <td>350</td>\n",
       "      <td>0.170200</td>\n",
       "      <td>0.252767</td>\n",
       "      <td>0.922574</td>\n",
       "      <td>0.956374</td>\n",
       "      <td>0.937257</td>\n",
       "      <td>0.976287</td>\n",
       "    </tr>\n",
       "    <tr>\n",
       "      <td>400</td>\n",
       "      <td>0.210700</td>\n",
       "      <td>0.247960</td>\n",
       "      <td>0.922071</td>\n",
       "      <td>0.956276</td>\n",
       "      <td>0.933370</td>\n",
       "      <td>0.980335</td>\n",
       "    </tr>\n",
       "    <tr>\n",
       "      <td>450</td>\n",
       "      <td>0.226100</td>\n",
       "      <td>0.228452</td>\n",
       "      <td>0.922071</td>\n",
       "      <td>0.955241</td>\n",
       "      <td>0.953864</td>\n",
       "      <td>0.956622</td>\n",
       "    </tr>\n",
       "    <tr>\n",
       "      <td>500</td>\n",
       "      <td>0.170100</td>\n",
       "      <td>0.217331</td>\n",
       "      <td>0.927602</td>\n",
       "      <td>0.958857</td>\n",
       "      <td>0.947487</td>\n",
       "      <td>0.970503</td>\n",
       "    </tr>\n",
       "    <tr>\n",
       "      <td>550</td>\n",
       "      <td>0.109200</td>\n",
       "      <td>0.238982</td>\n",
       "      <td>0.926094</td>\n",
       "      <td>0.958322</td>\n",
       "      <td>0.939933</td>\n",
       "      <td>0.977444</td>\n",
       "    </tr>\n",
       "    <tr>\n",
       "      <td>600</td>\n",
       "      <td>0.147600</td>\n",
       "      <td>0.234334</td>\n",
       "      <td>0.927099</td>\n",
       "      <td>0.958536</td>\n",
       "      <td>0.947964</td>\n",
       "      <td>0.969346</td>\n",
       "    </tr>\n",
       "  </tbody>\n",
       "</table><p>"
      ],
      "text/plain": [
       "<IPython.core.display.HTML object>"
      ]
     },
     "metadata": {},
     "output_type": "display_data"
    },
    {
     "data": {
      "text/plain": [
       "TrainOutput(global_step=646, training_loss=0.23133196679431217, metrics={'train_runtime': 545.0657, 'train_samples_per_second': 37.874, 'train_steps_per_second': 1.185, 'total_flos': 1357916156712960.0, 'train_loss': 0.23133196679431217, 'epoch': 2.0})"
      ]
     },
     "execution_count": 10,
     "metadata": {},
     "output_type": "execute_result"
    }
   ],
   "source": [
    "training_args = TrainingArguments(\n",
    "    output_dir='./saved_models/classification',\n",
    "    num_train_epochs=2,\n",
    "    per_device_train_batch_size=32,\n",
    "    per_device_eval_batch_size=64,\n",
    "    warmup_steps=200,\n",
    "    # learning_rate=3e-03,\n",
    "    weight_decay=0.01,\n",
    "    optim=\"adamw_torch\",\n",
    "    logging_dir='./logs',\n",
    "    logging_steps=10,\n",
    "    eval_strategy='steps',\n",
    "    eval_steps=50,\n",
    "    save_steps=200,\n",
    "    load_best_model_at_end=True,\n",
    "    metric_for_best_model='accuracy'\n",
    ")\n",
    "\n",
    "trainer = Trainer(\n",
    "    model=model,\n",
    "    args=training_args,\n",
    "    train_dataset=train_encoding,\n",
    "    eval_dataset=val_encoding,\n",
    "    compute_metrics=compute_metrics\n",
    ")\n",
    "\n",
    "trainer.train()"
   ]
  },
  {
   "cell_type": "code",
   "execution_count": 11,
   "id": "fb4bd896-1955-4bd3-b10b-4d73fb9b150d",
   "metadata": {},
   "outputs": [
    {
     "data": {
      "text/html": [],
      "text/plain": [
       "<IPython.core.display.HTML object>"
      ]
     },
     "metadata": {},
     "output_type": "display_data"
    },
    {
     "data": {
      "text/plain": [
       "{'eval_loss': 0.23433418571949005,\n",
       " 'eval_accuracy': 0.9270990447461036,\n",
       " 'eval_f1': 0.9585358879039176,\n",
       " 'eval_precision': 0.9479638009049773,\n",
       " 'eval_recall': 0.9693464430306535,\n",
       " 'eval_runtime': 12.4501,\n",
       " 'eval_samples_per_second': 159.757,\n",
       " 'eval_steps_per_second': 2.57,\n",
       " 'epoch': 2.0}"
      ]
     },
     "execution_count": 11,
     "metadata": {},
     "output_type": "execute_result"
    }
   ],
   "source": [
    "trainer.evaluate()"
   ]
  },
  {
   "cell_type": "code",
   "execution_count": 12,
   "id": "72d154c4-a620-4a78-8c62-ebe7cb4788fe",
   "metadata": {},
   "outputs": [],
   "source": [
    "predictions = trainer.predict(test_encoding)\n",
    "# preds = np.argmax(predictions.predictions, axis=-1)\n",
    "# id_to_label = {0: 'Opposing', 1: 'Supportive'}\n",
    "# predicted_labels = [id_to_label[pred] for pred in preds]"
   ]
  },
  {
   "cell_type": "code",
   "execution_count": 14,
   "id": "d7750612-fa1d-44aa-b8f7-7fe2f32a63a6",
   "metadata": {},
   "outputs": [
    {
     "data": {
      "text/plain": [
       "{'test_loss': 0.26490676403045654,\n",
       " 'test_accuracy': 0.920812894183602,\n",
       " 'test_f1': 0.9555293191656828,\n",
       " 'test_precision': 0.946219797349961,\n",
       " 'test_recall': 0.9650238473767886,\n",
       " 'test_runtime': 8.9506,\n",
       " 'test_samples_per_second': 159.431,\n",
       " 'test_steps_per_second': 2.57}"
      ]
     },
     "execution_count": 14,
     "metadata": {},
     "output_type": "execute_result"
    }
   ],
   "source": [
    "predictions.metrics"
   ]
  },
  {
   "cell_type": "code",
   "execution_count": 15,
   "id": "44c22c40-e28a-4c9c-959d-6a2e2af2ef88",
   "metadata": {},
   "outputs": [],
   "source": [
    "trainer.save_model('saved_models/classification/')"
   ]
  },
  {
   "cell_type": "code",
   "execution_count": 16,
   "id": "b0f89fbc-2772-4653-aac3-65a01c4cca95",
   "metadata": {},
   "outputs": [
    {
     "data": {
      "text/plain": [
       "('saved_models/classification/tokenizer_config.json',\n",
       " 'saved_models/classification/special_tokens_map.json',\n",
       " 'saved_models/classification/vocab.txt',\n",
       " 'saved_models/classification/added_tokens.json',\n",
       " 'saved_models/classification/tokenizer.json')"
      ]
     },
     "execution_count": 16,
     "metadata": {},
     "output_type": "execute_result"
    }
   ],
   "source": [
    "tokenizer.save_pretrained('saved_models/classification/')"
   ]
  },
  {
   "cell_type": "code",
   "execution_count": null,
   "id": "9183739c-4903-46e5-9296-c11bdfc1a4ca",
   "metadata": {},
   "outputs": [],
   "source": []
  }
 ],
 "metadata": {
  "kernelspec": {
   "display_name": "newmind",
   "language": "python",
   "name": "newmind"
  },
  "language_info": {
   "codemirror_mode": {
    "name": "ipython",
    "version": 3
   },
   "file_extension": ".py",
   "mimetype": "text/x-python",
   "name": "python",
   "nbconvert_exporter": "python",
   "pygments_lexer": "ipython3",
   "version": "3.12.6"
  }
 },
 "nbformat": 4,
 "nbformat_minor": 5
}
